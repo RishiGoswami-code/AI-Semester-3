{
 "cells": [
  {
   "cell_type": "code",
   "execution_count": 25,
   "id": "b0341b28",
   "metadata": {},
   "outputs": [],
   "source": [
    "import random\n",
    "\n",
    "def prob():\n",
    "  n = 10\n",
    "  list1 = []\n",
    "  while n>0:\n",
    "    summ = 0\n",
    "    for i in range(1000):\n",
    "      prob1 = random.uniform(0,1)\n",
    "      prob2 = random.uniform(0,1)\n",
    "      if prob1 >0.5:\n",
    "        prob1 = 1\n",
    "      else:\n",
    "        prob1 = 0\n",
    "      if prob2 >0.4:\n",
    "        prob2 = 0\n",
    "      else:\n",
    "        prob2 = 1\n",
    "      summ +=prob1*prob2\n",
    "    list1.append(summ/1000)\n",
    "    n-=1\n",
    "\n",
    "  print(f\"Final Probability is {sum(list1)/10}\")\n",
    "  "
   ]
  },
  {
   "cell_type": "code",
   "execution_count": 26,
   "id": "83c067e5",
   "metadata": {},
   "outputs": [
    {
     "name": "stdout",
     "output_type": "stream",
     "text": [
      "Final Probability is 0.19970000000000002\n"
     ]
    }
   ],
   "source": [
    "prob()"
   ]
  },
  {
   "cell_type": "code",
   "execution_count": null,
   "id": "1963b01c",
   "metadata": {},
   "outputs": [],
   "source": []
  }
 ],
 "metadata": {
  "kernelspec": {
   "display_name": "Python 3",
   "language": "python",
   "name": "python3"
  },
  "language_info": {
   "codemirror_mode": {
    "name": "ipython",
    "version": 3
   },
   "file_extension": ".py",
   "mimetype": "text/x-python",
   "name": "python",
   "nbconvert_exporter": "python",
   "pygments_lexer": "ipython3",
   "version": "3.13.0"
  }
 },
 "nbformat": 4,
 "nbformat_minor": 5
}
