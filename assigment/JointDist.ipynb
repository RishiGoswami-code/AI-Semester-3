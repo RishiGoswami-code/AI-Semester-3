{
 "cells": [
  {
   "cell_type": "markdown",
   "id": "3a629250",
   "metadata": {},
   "source": [
    "# The Basketball Duo Challenge \n",
    "\n",
    "Imagine two friends, **Arun** and **Rishi**, are on the court practicing their free throws. Their skills are a bit different, and whether one makes a shot has no effect on the other.\n",
    "\n",
    "## Meet the Players\n",
    "\n",
    "* **Rishi (Player 1)**: A consistent shooter who makes exactly **50%** of his shots.\n",
    "* **Arun (Player 2)**: A bit less reliable, making only **40%** of his shots.\n",
    "\n",
    "## The Game\n",
    "\n",
    "They decide to play a fun game. On each turn, they both take one shot at the same time. They only score a **\"Team Point\"** if **both** of them successfully make their shot.\n",
    "\n",
    "\n",
    "\n",
    "***\n",
    "\n",
    "## Your Mission: Find the Probability\n",
    "\n",
    "> What is the theoretical probability that they score a \"Team Point\" on any given turn?\n",
    "\n",
    "Write a Python script to **estimate** this probability by running a Monte Carlo simulation. Your script should follow these steps:\n",
    "\n",
    "1.  **Single Experiment:** Simulate **1,000 turns** (where both players shoot) and calculate the percentage of turns where they scored a team point.\n",
    "2.  **Repeat for Accuracy:** Repeat this entire experiment **10 times** to ensure your result is stable and not just a one-time fluke.\n",
    "3.  **Final Result:** Calculate the **final average probability** from your 10 experiments to get a reliable estimate."
   ]
  },
  {
   "cell_type": "code",
   "execution_count": null,
   "id": "b0341b28",
   "metadata": {},
   "outputs": [],
   "source": [
    "import random\n",
    "\n",
    "def prob():\n",
    "  n = 10\n",
    "  list1 = []\n",
    "  while n>0:\n",
    "    summ = 0\n",
    "    for i in range(1000):\n",
    "      prob1 = random.uniform(0,1)\n",
    "      prob2 = random.uniform(0,1)\n",
    "      if prob1 >0.5:\n",
    "        prob1 = 1\n",
    "      else:\n",
    "        prob1 = 0\n",
    "      if prob2 >0.4:\n",
    "        prob2 = 0\n",
    "      else:\n",
    "        prob2 = 1\n",
    "      summ +=prob1*prob2\n",
    "    list1.append(summ/1000)\n",
    "    n-=1\n",
    "  print(list1)\n",
    "  print(f\"Final Probability is {sum(list1)/10}\")\n",
    "  "
   ]
  },
  {
   "cell_type": "code",
   "execution_count": 28,
   "id": "83c067e5",
   "metadata": {},
   "outputs": [
    {
     "name": "stdout",
     "output_type": "stream",
     "text": [
      "[0.197, 0.204, 0.205, 0.189, 0.2, 0.206, 0.198, 0.196, 0.207, 0.184]\n",
      "Final Probability is 0.1986\n"
     ]
    }
   ],
   "source": [
    "prob()"
   ]
  },
  {
   "cell_type": "code",
   "execution_count": null,
   "id": "1963b01c",
   "metadata": {},
   "outputs": [],
   "source": []
  }
 ],
 "metadata": {
  "kernelspec": {
   "display_name": "Python 3",
   "language": "python",
   "name": "python3"
  },
  "language_info": {
   "codemirror_mode": {
    "name": "ipython",
    "version": 3
   },
   "file_extension": ".py",
   "mimetype": "text/x-python",
   "name": "python",
   "nbconvert_exporter": "python",
   "pygments_lexer": "ipython3",
   "version": "3.14.0"
  }
 },
 "nbformat": 4,
 "nbformat_minor": 5
}
