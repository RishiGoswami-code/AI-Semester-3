{
 "cells": [
  {
   "cell_type": "markdown",
   "id": "c9bfdd40",
   "metadata": {},
   "source": [
    "My Biggest Question woould be why do we need MAP(Maximum a Posteriori ) estimation if we have the **MLE(Maximum likelihood Estimation)** is still here.\n",
    "\n",
    "There were some limitations in MLE that leads to inefficiency, e.g. noisy dataset, small dataset, etc. "
   ]
  },
  {
   "cell_type": "markdown",
   "metadata": {},
   "source": [
    "That is why we need some algos that might be working well if there are some kind of inefficiency. \n",
    "\n"
   ]
  },
  {
   "cell_type": "markdown",
   "id": "4b27e4f3",
   "metadata": {},
   "source": [
    "We chose $\\theta$ that maximizes the likelihood of the observed data:\n",
    "\n",
    "$$\n",
    "\\hat{\\theta}_{MLE} = \\arg\\max_{\\theta} P(D \\mid \\theta)\n",
    "$$\n",
    "\n",
    "That’s great if you have tons of data.  \n",
    "But what happens if:\n",
    "\n",
    "- You have very few samples?  \n",
    "- Your data has noise or missing points?  \n",
    "- You want to include prior knowledge or beliefs about the parameter?  \n",
    "\n",
    "Then MLE can get overconfident or overfit.  \n",
    "It has no regularization, no mechanism to encode what we already know.\n",
    "\n",
    "That’s where **MAP estimation** enters.\n"
   ]
  },
  {
   "cell_type": "markdown",
   "id": "9e5a180e",
   "metadata": {},
   "source": [
    "### Bayes’ Theorem for Parameters\n",
    "\n",
    "Bayes’ theorem for parameters is:\n",
    "\n",
    "$$\n",
    "P(\\theta \\mid D) = \\frac{P(D \\mid \\theta) \\, P(\\theta)}{P(D)}\n",
    "$$\n",
    "\n",
    "Where:\n",
    "\n",
    "- $P(\\theta \\mid D)$ : **Posterior** (updated belief about $\\theta$ after seeing data)  \n",
    "- $P(D \\mid \\theta)$ : **Likelihood** (how likely data is given $\\theta$)  \n",
    "- $P(\\theta)$ : **Prior** (belief about $\\theta$ before seeing data)  \n",
    "- $P(D)$ : **Evidence** (normalization constant)\n",
    "\n",
    "---\n",
    "\n",
    "### MAP Estimation\n",
    "\n",
    "MAP estimation chooses the most probable parameter given the data:\n",
    "\n",
    "$$\n",
    "\\hat{\\theta}_{MAP} = \\arg\\max_{\\theta} P(\\theta \\mid D)\n",
    "$$\n",
    "\n",
    "Substitute Bayes’ theorem:\n",
    "\n",
    "$$\n",
    "\\hat{\\theta}_{MAP} = \\arg\\max_{\\theta} P(D \\mid \\theta) \\, P(\\theta)\n",
    "$$\n",
    "\n",
    "We drop $P(D)$ since it doesn’t depend on $\\theta$.\n",
    "\n",
    "---\n",
    "\n",
    "**Final MAP Formula:**\n",
    "\n",
    "$$\n",
    "\\hat{\\theta}_{MAP} = \\arg\\max_{\\theta} \\big[ P(D \\mid \\theta) \\cdot P(\\theta) \\big]\n",
    "$$\n",
    "\n",
    "Or equivalently, in log-space:\n",
    "\n",
    "$$\n",
    "\\hat{\\theta}_{MAP} = \\arg\\max_{\\theta} \\big[ \\log P(D \\mid \\theta) + \\log P(\\theta) \\big]\n",
    "$$\n"
   ]
  },
  {
   "cell_type": "markdown",
   "id": "31f5f864",
   "metadata": {},
   "source": [
    "## Introduce a Prior\n",
    "\n",
    "Let’s say we believe before seeing data that $\\theta$ is likely near $0.5$  \n",
    "(i.e., most coins are fair).\n",
    "\n",
    "We model that prior belief using a **Beta distribution**:\n",
    "\n",
    "$$\n",
    "P(\\theta) = \\text{Beta}(\\theta; \\alpha, \\beta) = \n",
    "\\frac{\\theta^{\\alpha - 1}(1 - \\theta)^{\\beta - 1}}{B(\\alpha, \\beta)}\n",
    "$$\n",
    "\n",
    "If we set $\\alpha = \\beta = 2$, it means:\n",
    "\n",
    "> “$\\theta$ is probably near $0.5$, but not fixed.”\n"
   ]
  },
  {
   "cell_type": "markdown",
   "id": "24071865",
   "metadata": {},
   "source": [
    "## Mode (Peak) of the Beta Distribution\n",
    "\n",
    "The **mode** (peak) of the Beta distribution — i.e., the most likely value of $\\theta$ — is given by:\n",
    "\n",
    "$$\n",
    "\\hat{\\theta}_{MAP} = \\frac{\\alpha + H - 1}{\\alpha + \\beta + H + T - 2}\n",
    "$$\n",
    "\n",
    "That’s the formula we used.\n"
   ]
  },
  {
   "cell_type": "markdown",
   "id": "d4c0d15c",
   "metadata": {},
   "source": [
    "| α & β      | Interpretation                          | Effect on MAP            |\n",
    "| ---------- | --------------------------------------- | ------------------------ |\n",
    "| α = β = 1  | Uniform prior (no bias)                 | MAP = MLE                |\n",
    "| α > β      | Prior belief: coin likely heads         | MAP shifts upward        |\n",
    "| α < β      | Prior belief: coin likely tails         | MAP shifts downward      |\n",
    "| α, β large | Strong belief (less impact of new data) | Posterior changes little |\n",
    "| α, β small | Weak belief (data dominates)            | Posterior moves easily   |\n"
   ]
  },
  {
   "cell_type": "markdown",
   "id": "e432ccf0",
   "metadata": {},
   "source": []
  },
  {
   "cell_type": "markdown",
   "id": "fb7c7a5c",
   "metadata": {},
   "source": []
  },
  {
   "cell_type": "markdown",
   "id": "1255cd31",
   "metadata": {},
   "source": []
  }
 ],
 "metadata": {
  "kernelspec": {
   "display_name": "Python 3",
   "language": "python",
   "name": "python3"
  },
  "language_info": {
   "name": "python",
   "version": "3.14.0"
  }
 },
 "nbformat": 4,
 "nbformat_minor": 5
}
