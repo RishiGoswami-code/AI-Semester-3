{
 "cells": [
  {
   "cell_type": "markdown",
   "id": "f7e90ac0",
   "metadata": {},
   "source": [
    "# `**Propositional Logic (PL)**`"
   ]
  },
  {
   "cell_type": "code",
   "execution_count": null,
   "id": "212921f6",
   "metadata": {},
   "outputs": [],
   "source": [
    "`Definition:`  PL represents knowledge as statements (propositions) that can be **True (T)** or **False (F)**."
   ]
  },
  {
   "cell_type": "code",
   "execution_count": null,
   "id": "f55bbeec",
   "metadata": {},
   "outputs": [],
   "source": [
    "**Proposition Examples:**\n",
    "\n",
    "- \"It is raining\" → R (True/False)"
   ]
  },
  {
   "cell_type": "code",
   "execution_count": null,
   "id": "c5721184",
   "metadata": {},
   "outputs": [],
   "source": [
    "Now after connecting one statement to another statement, we can have the great idea that what should be conclusion of it. Or if someone gives us the conslusion and gives the propositional statements and asks if the conclusion is true or false, we can have some manipulation and we can find that the given conclusion is true or false."
   ]
  },
  {
   "cell_type": "code",
   "execution_count": null,
   "id": "d9d50af4",
   "metadata": {},
   "outputs": [],
   "source": [
    "For this we have some operations defined, it helps us and machine to infer to some conclusions."
   ]
  },
  {
   "cell_type": "code",
   "execution_count": null,
   "id": "6a1fd20a",
   "metadata": {},
   "outputs": [],
   "source": [
    "Following table with some symbols will help to write the processes systematically and in simplified form."
   ]
  },
  {
   "cell_type": "code",
   "execution_count": null,
   "id": "a99ef9d9",
   "metadata": {},
   "outputs": [],
   "source": [
    "| Symbol | Name          | Meaning                      |\n",
    "| ------ | ------------- | ---------------------------- |\n",
    "| ¬      | NOT           | Negation                     |\n",
    "| ∧      | AND           | Conjunction                  |\n",
    "| ∨      | OR            | Disjunction                  |\n",
    "| →      | IMPLIES       | Implication (If…Then…)       |\n",
    "| ↔      | BICONDITIONAL | Equivalence (If and only if) |\n"
   ]
  },
  {
   "cell_type": "code",
   "execution_count": null,
   "id": "f289f5dc",
   "metadata": {},
   "outputs": [],
   "source": [
    "| R | W | ¬W | R ∧ ¬W |\n",
    "| - | - | -- | ------ |\n",
    "| T | T | F  | F      |\n",
    "| T | F | T  | T      |\n",
    "| F | T | F  | F      |\n",
    "| F | F | T  | F      |\n"
   ]
  },
  {
   "cell_type": "code",
   "execution_count": null,
   "id": "a3110524",
   "metadata": {},
   "outputs": [],
   "source": [
    "These tables are called **truth table**. Truth tables are fundamental — all inference in PL is based on them."
   ]
  },
  {
   "cell_type": "code",
   "execution_count": null,
   "id": "33d87534",
   "metadata": {},
   "outputs": [],
   "source": [
    "- Propositions: P = \"I study\", Q = \"I pass\"\n",
    "\n",
    "- Statement: (P → Q) ∧ ¬Q\n",
    "\n",
    "- given proppositions are true by defualt, and we have to draw the conclusion of *statement* given, \n",
    "\n",
    "```cpp\n",
    "\n",
    "Let say X = (P → Q)\n",
    "        X will also be true by truth table\n",
    "Let say Y =  ¬Q\n",
    "        It means Y will be false\n",
    "        \n",
    "Now X ∧ Y = true and false = false\n",
    "\n",
    "conclusion will be false.\n"
   ]
  },
  {
   "cell_type": "code",
   "execution_count": null,
   "id": "cfa5b563",
   "metadata": {},
   "outputs": [],
   "source": [
    "## Logical Equivalences\n",
    "\n",
    "| Equivalence     | Rule                                       |\n",
    "| --------------- | ------------------------------------------ |\n",
    "| De Morgan       | ¬(P ∧ Q) ≡ ¬P ∨ ¬Q <br> ¬(P ∨ Q) ≡ ¬P ∧ ¬Q |\n",
    "| Double Negation | ¬(¬P) ≡ P                                  |\n",
    "| Implication     | P → Q ≡ ¬P ∨ Q                             |\n",
    "| Biconditional   | P ↔ Q ≡ (P ∧ Q) ∨ (¬P ∧ ¬Q)                |\n",
    "| Commutativity   | P ∧ Q ≡ Q ∧ P <br> P ∨ Q ≡ Q ∨ P           |\n",
    "| Associativity   | (P ∧ Q) ∧ R ≡ P ∧ (Q ∧ R)                  |\n"
   ]
  },
  {
   "cell_type": "code",
   "execution_count": null,
   "id": "74734195",
   "metadata": {},
   "outputs": [],
   "source": [
    "## Inference in PL\n",
    "\n",
    "**Inference** = Deriving new truths from known sentences"
   ]
  },
  {
   "cell_type": "code",
   "execution_count": null,
   "id": "047b5a0a",
   "metadata": {},
   "outputs": [],
   "source": [
    "If KB ⊨ α, then α is logically entailed.\n",
    "\n",
    "P → Q, P ⊨ Q\n",
    "\n",
    "\n",
    "`Forward Chaining`\n",
    "\n",
    "- Start from known facts, apply rules → infer new facts\n",
    "\n",
    "`Backward Chaining`\n",
    "\n",
    "- Start from query → check if KB supports it\n",
    "\n",
    "`Resolution`\n",
    "\n",
    "- Convert all statements to CNF (Conjunctive Normal Form)\n",
    "\n",
    "- Apply resolution rule to derive contradiction → proves entailment"
   ]
  },
  {
   "cell_type": "markdown",
   "id": "00aaed48",
   "metadata": {},
   "source": [
    "Now it has been to understand three terms: \n",
    "\n",
    "- what is entailment?\n",
    "\n",
    "- what is normal form?\n",
    "\n",
    "- what is conjunctive normal form?"
   ]
  },
  {
   "cell_type": "markdown",
   "id": "6f528c3e",
   "metadata": {},
   "source": [
    "### Entailment\n",
    "\n",
    "A knowledge base (KB) entails a sentence α (written as KB ⊨ α) if and only if α is true in every model where the KB is true.\n",
    "\n",
    "Knowledge Base (KB):\n",
    "\n",
    "`It is raining → The ground is wet`\n",
    "\n",
    "`It is raining`\n",
    "\n",
    "**Query (α):** The ground is wet\n",
    "\n",
    "Here, <br>\n",
    "KB ⊨ The ground is wet\n",
    "\n",
    "Query will only be true if KB is true\n"
   ]
  },
  {
   "cell_type": "markdown",
   "id": "3a167b62",
   "metadata": {},
   "source": [
    "### Normal Form\n",
    "\n",
    "A normal form is a **standardized or canonical structure** in which logical sentences are written to make inference and reasoning easier."
   ]
  },
  {
   "cell_type": "markdown",
   "id": "92677f1b",
   "metadata": {},
   "source": [
    "| Type                              | Structure                                                        | Example              |\n",
    "| --------------------------------- | ---------------------------------------------------------------- | -------------------- |\n",
    "| **Negation Normal Form (NNF)**    | Only uses `¬`, `∧`, `∨`, and negations only in front of literals | `¬A ∨ B`             |\n",
    "| **Conjunctive Normal Form (CNF)** | AND of ORs of literals                                           | `(A ∨ B) ∧ (¬C ∨ D)` |\n",
    "| **Disjunctive Normal Form (DNF)** | OR of ANDs of literals                                           | `(A ∧ B) ∨ (¬C ∧ D)` |\n"
   ]
  },
  {
   "cell_type": "markdown",
   "id": "3bd39f45",
   "metadata": {},
   "source": [
    "### **`Conjunctive Normal Form (CNF)`**"
   ]
  },
  {
   "cell_type": "markdown",
   "id": "cd2cef71",
   "metadata": {},
   "source": [
    "A formula is in CNF if it is a **conjunction** `(AND)` of one or more clauses, where each clause is a **disjunction** `(OR)` of literals."
   ]
  },
  {
   "cell_type": "markdown",
   "id": "808ddc42",
   "metadata": {},
   "source": [
    "**`Example`**\n",
    "\n",
    "Given:\n",
    "\n",
    "¬(P → (Q ∧ R))\n",
    "\n",
    "Step 1: Replace implication\n",
    "\n",
    "¬(¬P ∨ (Q ∧ R))\n",
    "\n",
    "\n",
    "Step 2: Push negation inside (De Morgan)\n",
    "\n",
    "P ∧ ¬(Q ∧ R)\n",
    "\n",
    "\n",
    "Step 3: Apply De Morgan again\n",
    "\n",
    "P ∧ (¬Q ∨ ¬R)\n",
    "\n",
    "\n",
    "Final CNF = (P) ∧ (¬Q ∨ ¬R)"
   ]
  },
  {
   "cell_type": "markdown",
   "id": "6fb888f2",
   "metadata": {},
   "source": [
    "***`High-Level Example`***\n",
    "\n",
    "Knowledge Base (KB):\n",
    "\n",
    "- If it rains, the ground gets wet. → (R → W)\n",
    "\n",
    "- If the ground gets wet, the car slips. → (W → S)\n",
    "\n",
    "- It is raining. → (R)\n",
    "\n",
    "`Goal (α):` Is The car slips (S) entailed by KB?"
   ]
  },
  {
   "cell_type": "markdown",
   "id": "dfcbd246",
   "metadata": {},
   "source": [
    "Step 1: Express in Logic<br>\n",
    "R → W<br>\n",
    "W → S<br>\n",
    "R<br>\n",
    "⊨ S ?\n",
    "\n",
    "Step 2: Convert to CNF\n",
    "\n",
    "R → W → ¬R ∨ W<br>\n",
    "W → S → ¬W ∨ S<br>\n",
    "R stays as is<br>\n",
    "\n",
    "CNF:\n",
    "\n",
    "(¬R ∨ W) ∧ (¬W ∨ S) ∧ (R)\n",
    "\n",
    "## Resolution \n",
    "\n",
    "C1= ¬R ∨ W<BR>\n",
    "C2= ¬W ∨ S<br>\n",
    "C3= R<br>\n",
    "C4= ¬S\n",
    "\n",
    "`Step 1` — Resolve C2 and C4 on S:\n",
    "\n",
    "C2 = (¬W ∨ S)\n",
    "\n",
    "C4 = (¬S)\n",
    "\n",
    "C2 v C4= (¬W ∨ S) V (¬S)\n",
    "\n",
    "`Result clause` = (¬W)\n",
    "\n",
    "Call this C5: (¬W).\n",
    "\n",
    "Why valid: (¬W ∨ S) and ¬S together force ¬W — if S is false, the only way the disjunction (¬W ∨ S) can be true is that ¬W is true.\n",
    "\n",
    "`Step 2` — Resolve C1 and C5 on W:\n",
    "\n",
    "C1 = (¬R ∨ W)\n",
    "\n",
    "C5 = (¬W)\n",
    "\n",
    "C1 v C5 = (¬R ∨ W) v (¬W)\n",
    "\n",
    "`Result clause` = (¬R)\n",
    "\n",
    "Call this C6: (¬R).\n",
    "\n",
    "Why valid: (¬R ∨ W) with W false implies ¬R must be true to satisfy the clause.\n",
    "\n",
    "`Step 3` — Resolve C6 and C3 on R:\n",
    "\n",
    "C6 = (¬R)\n",
    "\n",
    "C3 = (R)\n",
    "\n",
    "C6 v C3 = (¬R) v (R)\n",
    "\n",
    "`Result clause` = empty clause\n",
    "\n",
    "Call this C7: ⊥ (contradiction / empty clause).\n",
    "\n",
    "Why this matters: The empty clause means unsatisfiable — there is no truth assignment that makes all clauses true simultaneously."
   ]
  },
  {
   "cell_type": "markdown",
   "id": "64fb1ff8",
   "metadata": {},
   "source": []
  },
  {
   "cell_type": "markdown",
   "id": "5117a760",
   "metadata": {},
   "source": []
  }
 ],
 "metadata": {
  "kernelspec": {
   "display_name": "Python 3",
   "language": "python",
   "name": "python3"
  },
  "language_info": {
   "name": "python",
   "version": "3.14.0"
  }
 },
 "nbformat": 4,
 "nbformat_minor": 5
}
