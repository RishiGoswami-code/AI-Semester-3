{
 "cells": [
  {
   "cell_type": "markdown",
   "id": "3228e78c",
   "metadata": {},
   "source": [
    "# First-Order Logic"
   ]
  },
  {
   "cell_type": "markdown",
   "id": "b9de52b8",
   "metadata": {},
   "source": [
    "First-Order Logic (**FOL**) is a formal system used to represent knowledge about the world using:\n",
    "\n",
    "* Objects (things in the universe)\n",
    "\n",
    "* Properties of objects\n",
    "\n",
    "* Relations between objects\n",
    "\n",
    "* **Quantifiers** to express \"for all\" or \"there exists\"\n",
    "\n",
    "It overcomes the limitations of Propositional Logic"
   ]
  },
  {
   "cell_type": "markdown",
   "id": "948aae4f",
   "metadata": {},
   "source": [
    "| Concept         | Example                 | Meaning                     |\n",
    "| --------------- | ----------------------- | --------------------------- |\n",
    "| **Constants**   | `Rama`, `2`, `a`        | Specific objects            |\n",
    "| **Variables**   | `x`, `y`, `z`           | Unknown objects             |\n",
    "| **Predicates**  | `Human(x)`              | Property of objects         |\n",
    "| **Relations**   | `Loves(Ram, Sita)`      | Relation between objects    |\n",
    "| **Functions**   | `FatherOf(x)`           | Returns another object      |\n",
    "| **Quantifiers** | ∀ (for all), ∃ (exists) | Range over variables        |\n",
    "| **Connectives** | ∧, ∨, ¬, →              | Same as propositional logic |\n"
   ]
  },
  {
   "cell_type": "markdown",
   "id": "40883164",
   "metadata": {},
   "source": [
    "## Quantifiers — The Soul of FOL\n",
    "\n",
    "| Quantifier  | Symbol  | Meaning                               |\n",
    "| ----------- | ------- | ------------------------------------- |\n",
    "| Universal   | ∀x P(x) | For **all** x, P(x) is true           |\n",
    "| Existential | ∃x P(x) | There **exists** some x, P(x) is true |\n"
   ]
  },
  {
   "cell_type": "markdown",
   "id": "7ebdece5",
   "metadata": {},
   "source": [
    "**Q1. Quantifier Reversal Trap**\n",
    "\n",
    "Translate and explain the difference between:\n",
    "\n",
    "“Everyone loves someone.”<br>\n",
    "“Someone is loved by everyone.”\n",
    "\n",
    "Which one is `∀x ∃y` and which one is `∃y ∀x`?\n",
    "```cpp\n",
    "∀x(Mortal(x) -> ∃y loves(x, y))\n",
    "```\n",
    "\n",
    "**Q2. Multiple Relationships**\n",
    "\n",
    "Represent:\n",
    "“Every student who takes AI either loves or hates logic, but not both.”\n",
    "```cpp\n",
    "∀x(Student(x)∧takesAI(x)→((LovesLogic(x)∨HatesLogic(x))∧¬(LovesLogic(x)∧HatesLogic(x))))\n",
    "```\n",
    "\n",
    "\n",
    "**Q3. Nested Quantifiers + Negation**\n",
    "\n",
    "Represent:\n",
    "“There is no student who hates every subject.”\n",
    "```cpp\n",
    "∀x(Student(x)→∃y(Subject(y)∧¬Hates(x,y))).\n",
    "```\n",
    "\n",
    "**Q4. Resolution Exercise (FOL → PL simplification)**\n",
    "\n",
    "Given:\n",
    "```cpp\n",
    "∀x (Student(x) → Loves(x, AI))\n",
    "\n",
    "```\n",
    "Student(Rishi)\n",
    "Prove: Loves(Rishi, AI) using substitution & Modus Ponens.\n",
    "\n",
    "**Q5. Conceptual**\n",
    "\n",
    "Explain why quantifier scope matters when converting natural language into logic and how ambiguity in English (like “some” or “every”) leads to different logical structures.\n",
    "\n"
   ]
  },
  {
   "cell_type": "markdown",
   "id": "3e7492e9",
   "metadata": {},
   "source": []
  }
 ],
 "metadata": {
  "kernelspec": {
   "display_name": "Python 3",
   "language": "python",
   "name": "python3"
  },
  "language_info": {
   "name": "python",
   "version": "3.14.0"
  }
 },
 "nbformat": 4,
 "nbformat_minor": 5
}
