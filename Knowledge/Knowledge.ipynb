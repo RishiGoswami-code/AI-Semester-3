{
 "cells": [
  {
   "cell_type": "markdown",
   "id": "9b4d1e05",
   "metadata": {},
   "source": [
    "# What is Knowledge? (In AI & Intelligence)\n",
    "\n",
    "- At its core, knowledge is not just data or information. It's the refined, structured understanding of the world that can be used to make decisions, predictions, and inferences."
   ]
  },
  {
   "cell_type": "markdown",
   "id": "18bf267f",
   "metadata": {},
   "source": [
    "| Level                       | Meaning                                 | Example (Weather)                                                |\n",
    "| --------------------------- | --------------------------------------- | ---------------------------------------------------------------- |\n",
    "| **Data**                    | Raw signals, facts                      | `30°C`                                                           |\n",
    "| **Information**             | Processed data                          | “It is 30°C outside.”                                            |\n",
    "| **Knowledge**               | Meaning + Context + Use                 | “30°C + high humidity = likely rainstorm soon → carry umbrella.” |\n",
    "| **Wisdom (Meta-Knowledge)** | Knowing *when and how* to use knowledge | “It’s monsoon → avoid travel today.”                             |\n"
   ]
  },
  {
   "cell_type": "markdown",
   "id": "0bad1828",
   "metadata": {},
   "source": [
    "**AI Goal:** Just like us humans, we have the capability to deductt the inferences from data and make it knowledge so that we can draw an `Wisdom`. \n",
    "- Now this is the goal for AI to reach, where the data will be infered as knowledge to draw the wisdom.\n",
    "\n",
    "Wisdom simply means the ability to take decision accordingly."
   ]
  },
  {
   "cell_type": "markdown",
   "id": "85ddc5d0",
   "metadata": {},
   "source": [
    "## **Now the accurate definition of Knowledge would be:**\n",
    "\n",
    "A structured set of `facts`, `rules`, and `relationships` that an intelligent system uses to `reason`, `infer`, and make `decisions`."
   ]
  },
  {
   "cell_type": "markdown",
   "id": "be160482",
   "metadata": {},
   "source": [
    "In more formulation term:\n",
    "\n",
    "Knowledge = Representation + Reasoning\n",
    "\n",
    "To use knowledge, AI must:\n",
    "* Represent it (store it logically — facts, relations, rules)\n",
    "* Reason with it (derive new conclusions, make predictions)"
   ]
  },
  {
   "cell_type": "markdown",
   "id": "d326597b",
   "metadata": {},
   "source": [
    "# **Now, What is an Agent in AI?**\n",
    "\n",
    "An Agent is anything that:\n",
    "\n",
    "- Perceives the environment ➝ Thinks ➝ Acts to achieve a goal.\n",
    "\n",
    "In simple words:\n",
    "\n",
    "- An Agent = Brain + Sensors + Actions"
   ]
  },
  {
   "cell_type": "markdown",
   "id": "a86802a5",
   "metadata": {},
   "source": [
    "## Real-World Examples of Agent"
   ]
  },
  {
   "cell_type": "markdown",
   "id": "ad50d9ac",
   "metadata": {},
   "source": [
    "| Agent Type           | Sensors             | Actuators        | Goal                     |\n",
    "| -------------------- | ------------------- | ---------------- | ------------------------ |\n",
    "| **Self-driving Car** | Cameras, LIDAR      | Steering, Brakes | Reach destination safely |\n",
    "| **ChatGPT / LLM**    | Text Input          | Text Output      | Answer/Assist humans     |\n",
    "| **Chess AI**         | Game board state    | Move pieces      | Win the game             |\n",
    "| **Robot Vacuum**     | Camera, Bump sensor | Wheels           | Clean the house          |\n"
   ]
  },
  {
   "cell_type": "markdown",
   "id": "ea07b16f",
   "metadata": {},
   "source": [
    "### Now, what are Knowledge-Based Agents (KBA)?\n",
    "\n",
    "A **Knowledge Based Agent** is an AI agent that stores the knowledge about the world, infers the new fact using ``logics/reasonings``, then takes the **decisions**. "
   ]
  },
  {
   "cell_type": "markdown",
   "id": "a75c3bd0",
   "metadata": {},
   "source": [
    "There are two parts of the Knowledge based agents, first one is ``Knowledge Base``(Strores the knowledge about the world) and second one is **inference engine**(that takes the decision using the reseaning)."
   ]
  },
  {
   "cell_type": "markdown",
   "id": "e7277f1b",
   "metadata": {},
   "source": [
    "It has been too much time that we have been discussing about he knowledge and reasoning, now is the time to go more deeper and to do some knod of manipulation and understanding of how does this reasongs and logic takes place."
   ]
  },
  {
   "cell_type": "markdown",
   "id": "2d80e867",
   "metadata": {},
   "source": [
    "## Forms of Knowledge Representation (KR)\n",
    "\n",
    "How AI stores, understands, and reasons with knowledge? This should be the main question before moving forward. And To answer this we have to go on forms of representation of knowledge.\n",
    "\n",
    "### Major Forms of Knowledge Representation\n",
    "\n",
    "| Form                             | What It Stores                      | Power Level                       |\n",
    "| -------------------------------- | ----------------------------------- | --------------------------------- |\n",
    "| **Propositional Logic (PL)** | True/False Statements               | Basic                             |\n",
    "| **First-Order Logic (FOL)**  | Objects, Relations, Quantifiers     | Powerful                          |\n",
    "| **Semantic Networks**        | Graph of linked concepts            | Visual, Intuitive                 |\n",
    "| **Frames & Ontologies**      | Structured knowledge (like classes) | Used in real AI systems           |\n",
    "| **Probabilistic Models**     | Knowledge with Uncertainty          | Real-world reasoning (Bayesian)** |\n"
   ]
  },
  {
   "cell_type": "markdown",
   "id": "b1e93dd2",
   "metadata": {},
   "source": [
    "To understand that main question, How does this inferences takes place we have to go through these logics first. \n",
    "\n",
    "And at the end of the whole we will be able to understand the complete theory. "
   ]
  }
 ],
 "metadata": {
  "kernelspec": {
   "display_name": "Python 3",
   "language": "python",
   "name": "python3"
  },
  "language_info": {
   "name": "python",
   "version": "3.14.0"
  }
 },
 "nbformat": 4,
 "nbformat_minor": 5
}
