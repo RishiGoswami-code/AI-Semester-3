{
 "cells": [
  {
   "cell_type": "markdown",
   "id": "9b4d1e05",
   "metadata": {},
   "source": [
    "# What is Knowledge? (In AI & Intelligence)\n",
    "\n",
    "- At its core, knowledge is not just data or information. It's the refined, structured understanding of the world that can be used to make decisions, predictions, and inferences."
   ]
  },
  {
   "cell_type": "markdown",
   "id": "18bf267f",
   "metadata": {},
   "source": [
    "| Level                       | Meaning                                 | Example (Weather)                                                |\n",
    "| --------------------------- | --------------------------------------- | ---------------------------------------------------------------- |\n",
    "| **Data**                    | Raw signals, facts                      | `30°C`                                                           |\n",
    "| **Information**             | Processed data                          | “It is 30°C outside.”                                            |\n",
    "| **Knowledge**               | Meaning + Context + Use                 | “30°C + high humidity = likely rainstorm soon → carry umbrella.” |\n",
    "| **Wisdom (Meta-Knowledge)** | Knowing *when and how* to use knowledge | “It’s monsoon → avoid travel today.”                             |\n"
   ]
  },
  {
   "cell_type": "markdown",
   "id": "0bad1828",
   "metadata": {},
   "source": [
    "**AI Goal:** Just like us humans, we have the capability to deductt the inferences from data and make it knowledge so that we can draw an `Wisdom`. \n",
    "- Now this is the goal for AI to reach, where the data will be infered as knowledge to draw the wisdom.\n",
    "\n",
    "Wisdom simply means the ability to take decision accordingly."
   ]
  },
  {
   "cell_type": "markdown",
   "id": "85ddc5d0",
   "metadata": {},
   "source": [
    "## **Now the accurate definition of Knowledge would be:**\n",
    "\n",
    "A structured set of `facts`, `rules`, and `relationships` that an intelligent system uses to `reason`, `infer`, and make `decisions`."
   ]
  },
  {
   "cell_type": "markdown",
   "id": "be160482",
   "metadata": {},
   "source": [
    "In more formulation term:\n",
    "\n",
    "Knowledge = Representation + Reasoning\n",
    "\n",
    "To use knowledge, AI must:\n",
    "* Represent it (store it logically — facts, relations, rules)\n",
    "* Reason with it (derive new conclusions, make predictions)"
   ]
  },
  {
   "cell_type": "markdown",
   "id": "d326597b",
   "metadata": {},
   "source": [
    "# **Now, What is an Agent in AI?**\n",
    "\n",
    "An Agent is anything that:\n",
    "\n",
    "- Perceives the environment ➝ Thinks ➝ Acts to achieve a goal.\n",
    "\n",
    "In simple words:\n",
    "\n",
    "- An Agent = Brain + Sensors + Actions"
   ]
  },
  {
   "cell_type": "markdown",
   "id": "a86802a5",
   "metadata": {},
   "source": [
    "## Real-World Examples of Agent"
   ]
  },
  {
   "cell_type": "markdown",
   "id": "ad50d9ac",
   "metadata": {},
   "source": [
    "| Agent Type           | Sensors             | Actuators        | Goal                     |\n",
    "| -------------------- | ------------------- | ---------------- | ------------------------ |\n",
    "| **Self-driving Car** | Cameras, LIDAR      | Steering, Brakes | Reach destination safely |\n",
    "| **ChatGPT / LLM**    | Text Input          | Text Output      | Answer/Assist humans     |\n",
    "| **Chess AI**         | Game board state    | Move pieces      | Win the game             |\n",
    "| **Robot Vacuum**     | Camera, Bump sensor | Wheels           | Clean the house          |\n"
   ]
  },
  {
   "cell_type": "markdown",
   "id": "ea07b16f",
   "metadata": {},
   "source": [
    "### Now, what are Knowledge-Based Agents (KBA)?\n",
    "\n",
    "A **Knowledge Based Agent** is an AI agent that stores the knowledge about the world, infers the new fact using ``logics/reasonings``, then takes the **decisions**. "
   ]
  },
  {
   "cell_type": "markdown",
   "id": "a75c3bd0",
   "metadata": {},
   "source": [
    "There are two parts of the Knowledge based agents, first one is ``Knowledge Base``(Strores the knowledge about the world) and second one is **inference engine**(that takes the decision using the reseaning)."
   ]
  },
  {
   "cell_type": "markdown",
   "id": "e7277f1b",
   "metadata": {},
   "source": [
    "It has been too much time that we have been discussing about he knowledge and reasoning, now is the time to go more deeper and to do some knod of manipulation and understanding of how does this reasongs and logic takes place."
   ]
  },
  {
   "cell_type": "markdown",
   "id": "2d80e867",
   "metadata": {},
   "source": [
    "## Forms of Knowledge Representation (KR)\n",
    "\n",
    "How AI stores, understands, and reasons with knowledge? This should be the main question before moving forward. And To answer this we have to go on forms of representation of knowledge.\n",
    "\n",
    "### Major Forms of Knowledge Representation\n",
    "\n",
    "| Form                             | What It Stores                      | Power Level                       |\n",
    "| -------------------------------- | ----------------------------------- | --------------------------------- |\n",
    "| **Propositional Logic (PL)** | True/False Statements               | Basic                             |\n",
    "| **First-Order Logic (FOL)**  | Objects, Relations, Quantifiers     | Powerful                          |\n",
    "| **Semantic Networks**        | Graph of linked concepts            | Visual, Intuitive                 |\n",
    "| **Frames & Ontologies**      | Structured knowledge (like classes) | Used in real AI systems           |\n",
    "| **Probabilistic Models**     | Knowledge with Uncertainty          | Real-world reasoning (Bayesian)** |\n"
   ]
  },
  {
   "cell_type": "markdown",
   "id": "b1e93dd2",
   "metadata": {},
   "source": [
    "To understand that main question, How does this inferences takes place we have to go through these logics first. \n",
    "\n",
    "And at the end of the whole we will be able to understand the complete theory. "
   ]
  },
  {
   "cell_type": "markdown",
   "id": "ca89eda9",
   "metadata": {},
   "source": [
    "# `**Propositional Logic (PL)**`"
   ]
  },
  {
   "cell_type": "markdown",
   "id": "35a270c3",
   "metadata": {},
   "source": [
    "`Definition:`  PL represents knowledge as statements (propositions) that can be **True (T)** or **False (F)**."
   ]
  },
  {
   "cell_type": "markdown",
   "id": "3a586402",
   "metadata": {},
   "source": [
    "**Proposition Examples:**\n",
    "\n",
    "- \"It is raining\" → R (True/False)"
   ]
  },
  {
   "cell_type": "markdown",
   "id": "0745b2ea",
   "metadata": {},
   "source": [
    "Now after connecting one statement to another statement, we can have the great idea that what should be conclusion of it. Or if someone gives us the conslusion and gives the propositional statements and asks if the conclusion is true or false, we can have some manipulation and we can find that the given conclusion is true or false."
   ]
  },
  {
   "cell_type": "markdown",
   "id": "c61d9fc6",
   "metadata": {},
   "source": [
    "For this we have some operations defined, it helps us and machine to infer to some conclusions."
   ]
  },
  {
   "cell_type": "markdown",
   "id": "723fdd30",
   "metadata": {},
   "source": [
    "Following table with some symbols will help to write the processes systematically and in simplified form."
   ]
  },
  {
   "cell_type": "markdown",
   "id": "828e5ba7",
   "metadata": {},
   "source": [
    "| Symbol | Name          | Meaning                      |\n",
    "| ------ | ------------- | ---------------------------- |\n",
    "| ¬      | NOT           | Negation                     |\n",
    "| ∧      | AND           | Conjunction                  |\n",
    "| ∨      | OR            | Disjunction                  |\n",
    "| →      | IMPLIES       | Implication (If…Then…)       |\n",
    "| ↔      | BICONDITIONAL | Equivalence (If and only if) |\n"
   ]
  },
  {
   "cell_type": "markdown",
   "id": "d2dba004",
   "metadata": {},
   "source": [
    "| R | W | ¬W | R ∧ ¬W |\n",
    "| - | - | -- | ------ |\n",
    "| T | T | F  | F      |\n",
    "| T | F | T  | T      |\n",
    "| F | T | F  | F      |\n",
    "| F | F | T  | F      |\n"
   ]
  },
  {
   "cell_type": "markdown",
   "id": "73b9c2d5",
   "metadata": {},
   "source": [
    "These tables are called **truth table**. Truth tables are fundamental — all inference in PL is based on them."
   ]
  },
  {
   "cell_type": "markdown",
   "id": "369fdf45",
   "metadata": {},
   "source": [
    "- Propositions: P = \"I study\", Q = \"I pass\"\n",
    "\n",
    "- Statement: (P → Q) ∧ ¬Q\n",
    "\n",
    "- given proppositions are true by defualt, and we have to draw the conclusion of *statement* given, \n",
    "\n",
    "```cpp\n",
    "\n",
    "Let say X = (P → Q)\n",
    "        X will also be true by truth table\n",
    "Let say Y =  ¬Q\n",
    "        It means Y will be false\n",
    "        \n",
    "Now X ∧ Y = true and false = false\n",
    "\n",
    "conclusion will be false.\n"
   ]
  },
  {
   "cell_type": "markdown",
   "id": "49066246",
   "metadata": {},
   "source": []
  },
  {
   "cell_type": "markdown",
   "id": "11447573",
   "metadata": {},
   "source": []
  },
  {
   "cell_type": "markdown",
   "id": "17369a28",
   "metadata": {},
   "source": []
  },
  {
   "cell_type": "markdown",
   "id": "9bd74d81",
   "metadata": {},
   "source": []
  },
  {
   "cell_type": "code",
   "execution_count": null,
   "id": "911e2f13",
   "metadata": {},
   "outputs": [],
   "source": [
    "Propositions: P = \"I study\", Q = \"I pass\"\n",
    "\n",
    "Statement: (P → Q) ∧ ¬Q\n",
    "\n",
    "Task: Find truth assignments where the statement is True."
   ]
  }
 ],
 "metadata": {
  "kernelspec": {
   "display_name": "Python 3",
   "language": "python",
   "name": "python3"
  },
  "language_info": {
   "name": "python",
   "version": "3.14.0"
  }
 },
 "nbformat": 4,
 "nbformat_minor": 5
}
