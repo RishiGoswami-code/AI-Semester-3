{
 "cells": [
  {
   "cell_type": "markdown",
   "id": "8eefb0c2",
   "metadata": {},
   "source": [
    "# Searching "
   ]
  },
  {
   "cell_type": "markdown",
   "id": "6b176d78",
   "metadata": {},
   "source": [
    "For the base of the Artificial intelligence we will have to understand what is AI. \n",
    "\n",
    "It is the intelligence that are based on machine and if my machine is able to perform some task with given set of problems and giving me the solution can be called as *Artificial Intelligence.*\n"
   ]
  },
  {
   "cell_type": "markdown",
   "id": "867412ef",
   "metadata": {},
   "source": [
    "Now If I have given a set of problems which say that I need to find a route through in our map.\n",
    "\n",
    "If my algo is able to find the solution and gives me an output that has the proper route, then my algo is working as AI.  "
   ]
  },
  {
   "cell_type": "markdown",
   "id": "a98d1afa",
   "metadata": {},
   "source": [
    "There are some searching algorithm in course that we are going to learn, but we will go more ahead from the tutorials. "
   ]
  }
 ],
 "metadata": {
  "kernelspec": {
   "display_name": "Python 3",
   "language": "python",
   "name": "python3"
  },
  "language_info": {
   "name": "python",
   "version": "3.12.3"
  }
 },
 "nbformat": 4,
 "nbformat_minor": 5
}
