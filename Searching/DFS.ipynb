{
 "cells": [
  {
   "cell_type": "markdown",
   "id": "5c82368a",
   "metadata": {},
   "source": [
    "### Second Algo that we learn in this course will be **DFS(Depth First Search)**"
   ]
  },
  {
   "cell_type": "markdown",
   "id": "5fede3c6",
   "metadata": {},
   "source": [
    "# **Depth First Search**\n",
    "\n",
    "---"
   ]
  },
  {
   "cell_type": "markdown",
   "id": "5d854bea",
   "metadata": {},
   "source": [
    "**Requirements:**\n",
    "\n",
    "Breadth-First Search (BFS) requires a *graph or tree structure*, either represented using an *adjacency list* or *adjacency matrix*, to know which nodes are connected. \n",
    "\n",
    "It also needs a starting node from where the traversal begins, and a **stack (LIFO)** data structure to explore nodes. \n",
    "\n",
    "If we have came to a node then we will have to go all its neighbours util we find the goal node. "
   ]
  },
  {
   "cell_type": "markdown",
   "id": "85d3adce",
   "metadata": {},
   "source": [
    "---\n",
    "**Algorithm**\n",
    "\n",
    "0) Assume we have a graph represented using an adjacency list.\n",
    "\n",
    "1) Initialize two data structures:\n",
    "   - visited_set  → to keep track of visited nodes.\n",
    "   - frontier (Stack, LIFO) → to explore nodes until we come to the leaf node of the decision.\n",
    "\n",
    "2) Take the starting node (initial state), add it to the frontier, and mark it as visited.\n",
    "\n",
    "3) Loop until the frontier is empty:\n",
    "   - a) Remove the first node from the frontier → this becomes current_node.\n",
    "   - b) Check if current_node is the goal:\n",
    "      - If yes → Return True or path to goal.\n",
    "   \n",
    "4) If current_node is not the goal:\n",
    "   - Explore all neighbors of current_node.\n",
    "   - If a neighbor is NOT in visited_set and NOT in frontier:\n",
    "       → Add it to frontier and mark as visited.\n",
    "\n",
    "5) If frontier becomes empty and goal not found:\n",
    "   → Return False (no path exists)."
   ]
  },
  {
   "cell_type": "code",
   "execution_count": 1,
   "id": "fbf7f122",
   "metadata": {},
   "outputs": [],
   "source": [
    "class Searching:\n",
    "    def __init__(self, graph):\n",
    "        self.graph = graph\n",
    "\n",
    "    @staticmethod\n",
    "    def DFS(adj_list, start, goal):\n",
    "        from collections import deque\n",
    "        visited_set = set()\n",
    "        frontier = deque([start])\n",
    "        while frontier:\n",
    "            visited_node = frontier.pop()\n",
    "            if visited_node == goal:\n",
    "                for item in visited_set:\n",
    "                    print(f\"{item} --> \\t\", end = \" \")\n",
    "                print(goal)\n",
    "                return True\n",
    "            else:\n",
    "                visited_set.add(visited_node)\n",
    "                for node in adj_list[visited_node]:\n",
    "                    if (node not in visited_set) and (node not in frontier):\n",
    "                        frontier.append(node)\n",
    "        \n",
    "        return False"
   ]
  },
  {
   "cell_type": "code",
   "execution_count": 19,
   "id": "18fa636a",
   "metadata": {},
   "outputs": [
    {
     "name": "stdout",
     "output_type": "stream",
     "text": [
      "A --> \t C --> \t F\n",
      "True\n"
     ]
    }
   ],
   "source": [
    "graph = {\n",
    "    'A': ['B', 'C'],\n",
    "    'B': ['D', 'E'],\n",
    "    'C': ['F'],\n",
    "    'D': [],\n",
    "    'E': ['F'],\n",
    "    'F': [],\n",
    "    'G': ['H'],\n",
    "    'H': []\n",
    "}\n",
    "\n",
    "start_node_1 = 'A'\n",
    "goal_node_1 = 'F'\n",
    "\n",
    "Graph = Searching(graph)\n",
    "path_found_1 = Searching.DFS(graph, start_node_1, goal_node_1)\n",
    "print(path_found_1)\n"
   ]
  },
  {
   "cell_type": "code",
   "execution_count": 21,
   "id": "4d7f5df6",
   "metadata": {},
   "outputs": [
    {
     "name": "stdout",
     "output_type": "stream",
     "text": [
      "False\n"
     ]
    }
   ],
   "source": [
    "start_node_2 = 'A'\n",
    "goal_node_2 = 'H' \n",
    "path_found_2 = Searching.DFS(graph, start_node_2, goal_node_2)\n",
    "print(path_found_2)"
   ]
  },
  {
   "cell_type": "code",
   "execution_count": null,
   "id": "5560f619",
   "metadata": {},
   "outputs": [
    {
     "name": "stdout",
     "output_type": "stream",
     "text": [
      "A --> \t D --> \t M --> \t K --> \t L --> \t I --> \t G --> \t H --> \t J --> \t F\n",
      "True\n",
      "A --> \t L --> \t D --> \t H --> \t M\n",
      "True\n",
      "False\n"
     ]
    }
   ],
   "source": [
    "complex_graph = {\n",
    "    'A': ['B', 'D'],\n",
    "    'B': ['C', 'E'],\n",
    "    'C': ['F', 'G'],\n",
    "    'D': ['E', 'H'],\n",
    "    'E': ['F', 'I'],\n",
    "    'F': ['J'],\n",
    "    'G': ['K'],\n",
    "    'H': ['I', 'L'],\n",
    "    'I': ['J', 'M'],\n",
    "    'J': ['G', 'M'],\n",
    "    'K': ['F'],\n",
    "    'L': ['M'],\n",
    "    'M': [],\n",
    "    'N': ['O'],\n",
    "    'O': []\n",
    "}\n",
    "\n",
    "start = 'A'\n",
    "goal = 'F'\n",
    "print(Searching.DFS(complex_graph, start, goal), end= \"\\n\")\n",
    "start = 'A'\n",
    "goal = 'M'\n",
    "print(Searching.DFS(complex_graph, start, goal), end= \"\\n\")\n",
    "start = 'B'\n",
    "goal = 'N'\n",
    "print(Searching.DFS(complex_graph, start, goal), end = \"\\n\")"
   ]
  },
  {
   "cell_type": "code",
   "execution_count": null,
   "id": "d963f831",
   "metadata": {},
   "outputs": [],
   "source": []
  }
 ],
 "metadata": {
  "kernelspec": {
   "display_name": "Python 3",
   "language": "python",
   "name": "python3"
  },
  "language_info": {
   "codemirror_mode": {
    "name": "ipython",
    "version": 3
   },
   "file_extension": ".py",
   "mimetype": "text/x-python",
   "name": "python",
   "nbconvert_exporter": "python",
   "pygments_lexer": "ipython3",
   "version": "3.14.0"
  }
 },
 "nbformat": 4,
 "nbformat_minor": 5
}
