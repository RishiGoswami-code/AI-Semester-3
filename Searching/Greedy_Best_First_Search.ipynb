{
 "cells": [
  {
   "cell_type": "markdown",
   "id": "6821b61d",
   "metadata": {},
   "source": [
    "# Greedy Best First Search\n",
    "---\n",
    "\n",
    "As the name of the algorithm is referring to something that is the best which will come first, it means:\n",
    "\n",
    " - It expands node with lowest **heuristic h(n)**.\n",
    "\n",
    " - Only cares about **“closest looking”** path."
   ]
  },
  {
   "cell_type": "markdown",
   "id": "5a9bbbbd",
   "metadata": {},
   "source": []
  },
  {
   "cell_type": "code",
   "execution_count": null,
   "id": "7bb4d2c5",
   "metadata": {},
   "outputs": [],
   "source": [
    "def GBFS(graph, start, goal):\n",
    "    frontier = [(0, start, [start])]  # (h(n), current_node, path_taken)\n",
    "    visited = set()\n",
    "\n",
    "    while frontier:\n",
    "        # Sort frontier by h(n) (priority)\n",
    "        frontier.sort()\n",
    "        heuristic, node, path = frontier.pop(0)\n",
    "\n",
    "        if node == goal:\n",
    "            return True, path\n",
    "\n",
    "        if node not in visited:\n",
    "            visited.add(node)\n",
    "            for neighbor, step_cost in graph[node]:\n",
    "                if neighbor not in visited:\n",
    "                    total_cost = heuristic + step_cost\n",
    "                    frontier.append((total_cost, neighbor, path + [neighbor]))\n",
    "\n",
    "    return False, []\n"
   ]
  },
  {
   "cell_type": "code",
   "execution_count": null,
   "id": "a8377b46",
   "metadata": {},
   "outputs": [],
   "source": []
  }
 ],
 "metadata": {
  "kernelspec": {
   "display_name": "Python 3",
   "language": "python",
   "name": "python3"
  },
  "language_info": {
   "name": "python",
   "version": "3.12.3"
  }
 },
 "nbformat": 4,
 "nbformat_minor": 5
}
