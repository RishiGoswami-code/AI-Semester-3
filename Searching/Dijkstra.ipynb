{
 "cells": [
  {
   "cell_type": "markdown",
   "id": "b8b40764",
   "metadata": {},
   "source": [
    "# Uniform Cost Search\n",
    "---\n",
    "\n",
    "A search algo where the path is chosen based on the priority, where the cost of the next is minimum.\n"
   ]
  },
  {
   "cell_type": "markdown",
   "id": "849d42fb",
   "metadata": {},
   "source": [
    "## **How UCS Works (Step-by-Step)**\n",
    "\n",
    " - Start from the **initial node**.\n",
    "\n",
    " - Use a **Priority Queue** to store paths ordered by total cost.\n",
    "\n",
    " - Pick the path with the **lowest cost** from the queue.\n",
    "\n",
    " - Expand that path, add its neighbors with updated path costs.\n",
    "\n",
    " - If goal is **reached → stop** → the path is guaranteed to be optimal."
   ]
  },
  {
   "cell_type": "code",
   "execution_count": null,
   "id": "8ce134ba",
   "metadata": {},
   "outputs": [],
   "source": []
  },
  {
   "cell_type": "code",
   "execution_count": 5,
   "id": "ea34e1c8",
   "metadata": {},
   "outputs": [],
   "source": [
    "def UCS(graph, start, goal):\n",
    "    frontier = [(0, start, [start])]  # (cost, current_node, path_taken)\n",
    "    visited = set()\n",
    "\n",
    "    while frontier:\n",
    "        # Sort frontier by cost (priority)\n",
    "        frontier.sort()\n",
    "        cost, node, path = frontier.pop(0)\n",
    "\n",
    "        if node == goal:\n",
    "            return True, path, cost\n",
    "\n",
    "        if node not in visited:\n",
    "            visited.add(node)\n",
    "            for neighbor, step_cost in graph[node]:\n",
    "                if neighbor not in visited:\n",
    "                    total_cost = cost + step_cost\n",
    "                    frontier.append((total_cost, neighbor, path + [neighbor]))\n",
    "\n",
    "    return False, [], 0\n"
   ]
  },
  {
   "cell_type": "code",
   "execution_count": 6,
   "id": "a293d575",
   "metadata": {},
   "outputs": [
    {
     "name": "stdout",
     "output_type": "stream",
     "text": [
      "Found Goal? True\n",
      "Path: A -> C -> D\n",
      "Total Cost: 3\n"
     ]
    }
   ],
   "source": [
    "graph = {\n",
    "    'A': [('B', 2), ('C', 1)],\n",
    "    'B': [('D', 5)],\n",
    "    'C': [('D', 2)],\n",
    "    'D': []\n",
    "}\n",
    "\n",
    "found, path, cost = UCS(graph, 'A', 'D')\n",
    "print(\"Found Goal?\", found)\n",
    "print(\"Path:\", \" -> \".join(path))\n",
    "print(\"Total Cost:\", cost)\n"
   ]
  },
  {
   "cell_type": "code",
   "execution_count": null,
   "id": "e2305b42",
   "metadata": {},
   "outputs": [],
   "source": []
  }
 ],
 "metadata": {
  "kernelspec": {
   "display_name": "Python 3",
   "language": "python",
   "name": "python3"
  },
  "language_info": {
   "codemirror_mode": {
    "name": "ipython",
    "version": 3
   },
   "file_extension": ".py",
   "mimetype": "text/x-python",
   "name": "python",
   "nbconvert_exporter": "python",
   "pygments_lexer": "ipython3",
   "version": "3.12.3"
  }
 },
 "nbformat": 4,
 "nbformat_minor": 5
}
