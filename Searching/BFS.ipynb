{
 "cells": [
  {
   "cell_type": "markdown",
   "id": "8b919f4c",
   "metadata": {},
   "source": [
    "First searching algo is **Breadth First Search**\n",
    "\n",
    "## Breadth First Search:\n",
    "\n",
    "**Requirements:**\n",
    "\n",
    "---\n",
    "\n",
    "Breadth-First Search (BFS) requires a *graph or tree structure*, either represented using an *adjacency list* or *adjacency matrix*, to know which nodes are connected. It also needs a starting node from where the traversal begins, and a **queue (FIFO)** data structure to explore nodes *level by level*."
   ]
  },
  {
   "cell_type": "markdown",
   "id": "9fe4dea1",
   "metadata": {},
   "source": [
    "**Algorithm:**\n",
    "\n",
    "---\n",
    "0) Assume we have a graph represented using an adjacency list.\n",
    "\n",
    "1) Initialize two data structures:\n",
    "   - visited_set  → to keep track of visited nodes.\n",
    "   - frontier (Queue, FIFO) → to explore nodes level-by-level.\n",
    "\n",
    "2) Take the starting node (initial state), add it to the frontier, and mark it as visited.\n",
    "\n",
    "3) Loop until the frontier is empty:\n",
    "   - a) Remove the first node from the frontier → this becomes current_node.\n",
    "   - b) Check if current_node is the goal:\n",
    "      - If yes → Return True or path to goal.\n",
    "   \n",
    "4) If current_node is not the goal:\n",
    "   - Explore all neighbors of current_node.\n",
    "   - If a neighbor is NOT in visited_set and NOT in frontier:\n",
    "       → Add it to frontier and mark as visited.\n",
    "\n",
    "5) If frontier becomes empty and goal not found:\n",
    "   → Return False (no path exists).\n"
   ]
  },
  {
   "cell_type": "code",
   "execution_count": 18,
   "id": "40f672fa",
   "metadata": {},
   "outputs": [],
   "source": [
    "class Searching:\n",
    "    def __init__(self, graph):\n",
    "        self.graph = graph\n",
    "\n",
    "    @staticmethod\n",
    "    def BFS(adj_list, start, goal):\n",
    "        from collections import deque\n",
    "        visited_set = set()\n",
    "        frontier = deque([start])\n",
    "        while frontier:\n",
    "            visited_node = frontier.popleft()\n",
    "            if visited_node == goal:\n",
    "                return True\n",
    "            else:\n",
    "                visited_set.add(visited_node)\n",
    "                for node in adj_list[visited_node]:\n",
    "                    if (node not in visited_set) and (node not in frontier):\n",
    "                        frontier.append(node)\n",
    "        return False"
   ]
  },
  {
   "cell_type": "code",
   "execution_count": null,
   "id": "288db286",
   "metadata": {},
   "outputs": [
    {
     "name": "stdout",
     "output_type": "stream",
     "text": [
      "True\n"
     ]
    }
   ],
   "source": [
    "graph = {\n",
    "    'A': ['B', 'C'],\n",
    "    'B': ['D', 'E'],\n",
    "    'C': ['F'],\n",
    "    'D': [],\n",
    "    'E': ['F'],\n",
    "    'F': [],\n",
    "    'G': ['H'],\n",
    "    'H': []\n",
    "}\n",
    "\n",
    "start_node_1 = 'A'\n",
    "goal_node_1 = 'F'\n",
    "\n",
    "\n",
    "Graph = Searching(graph)\n",
    "\n",
    "\n",
    "path_found_1 = Searching.BFS(graph, start_node_1, goal_node_1)\n",
    "print(path_found_1)\n"
   ]
  },
  {
   "cell_type": "code",
   "execution_count": 22,
   "id": "bcd85fae",
   "metadata": {},
   "outputs": [
    {
     "name": "stdout",
     "output_type": "stream",
     "text": [
      "False\n"
     ]
    }
   ],
   "source": [
    "start_node_2 = 'A'\n",
    "goal_node_2 = 'H' \n",
    "path_found_2 = Searching.BFS(graph, start_node_2, goal_node_2)\n",
    "print(path_found_2)"
   ]
  },
  {
   "cell_type": "code",
   "execution_count": 26,
   "id": "fc35ac64",
   "metadata": {},
   "outputs": [
    {
     "name": "stdout",
     "output_type": "stream",
     "text": [
      "True\n",
      "True\n",
      "False\n"
     ]
    }
   ],
   "source": [
    "complex_graph = {\n",
    "    'A': ['B', 'D'],\n",
    "    'B': ['C', 'E'],\n",
    "    'C': ['F', 'G'],\n",
    "    'D': ['E', 'H'],\n",
    "    'E': ['F', 'I'],\n",
    "    'F': ['J'],\n",
    "    'G': ['K'],\n",
    "    'H': ['I', 'L'],\n",
    "    'I': ['J', 'M'],\n",
    "    'J': ['G', 'M'],\n",
    "    'K': ['F'],\n",
    "    'L': ['M'],\n",
    "    'M': [],\n",
    "    'N': ['O'],\n",
    "    'O': []\n",
    "}\n",
    "\n",
    "start = 'A'\n",
    "goal = 'F'\n",
    "print(Searching.BFS(complex_graph, start, goal))\n",
    "start = 'A'\n",
    "goal = 'M'\n",
    "print(Searching.BFS(complex_graph, start, goal))\n",
    "start = 'B'\n",
    "goal = 'N'\n",
    "print(Searching.BFS(complex_graph, start, goal))"
   ]
  },
  {
   "cell_type": "markdown",
   "id": "8809bc3b",
   "metadata": {},
   "source": [
    "---\n"
   ]
  },
  {
   "cell_type": "markdown",
   "id": "512794c1",
   "metadata": {},
   "source": [
    "Till now we have done the part where wehave found out that there exist a solution, but now it is the time to go more into this such that I may be able to find the path. "
   ]
  },
  {
   "cell_type": "markdown",
   "id": "cd6ddd32",
   "metadata": {},
   "source": [
    "With some manipulation in the game we will see, how do we find the real paths."
   ]
  },
  {
   "cell_type": "markdown",
   "id": "4da247fc",
   "metadata": {},
   "source": [
    "This Algorithm gives the shortest path if we see it closely but now we need to know we can't find the path until we know about **DFS(Depth First Search)**"
   ]
  },
  {
   "cell_type": "markdown",
   "id": "e2abcb62",
   "metadata": {},
   "source": [
    "Go on the next File of *DFS.ipynb* and check what is DFS then come back and read about the how we find the path"
   ]
  },
  {
   "cell_type": "code",
   "execution_count": null,
   "id": "3ab82308",
   "metadata": {},
   "outputs": [],
   "source": []
  },
  {
   "cell_type": "code",
   "execution_count": null,
   "id": "e3ef19cb",
   "metadata": {},
   "outputs": [],
   "source": []
  }
 ],
 "metadata": {
  "kernelspec": {
   "display_name": "Python 3",
   "language": "python",
   "name": "python3"
  },
  "language_info": {
   "codemirror_mode": {
    "name": "ipython",
    "version": 3
   },
   "file_extension": ".py",
   "mimetype": "text/x-python",
   "name": "python",
   "nbconvert_exporter": "python",
   "pygments_lexer": "ipython3",
   "version": "3.12.3"
  }
 },
 "nbformat": 4,
 "nbformat_minor": 5
}
