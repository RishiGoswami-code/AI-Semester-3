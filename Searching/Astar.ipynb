{
 "cells": [
  {
   "cell_type": "markdown",
   "id": "268aa177",
   "metadata": {},
   "source": [
    "# Informed Search (Heuristic-Based)\n",
    "---\n",
    "The algos that we have read so far was uniformed search algorithm. But from now we will be studying is informed search algo. \n",
    "\n",
    "We inject **domain knowledge** via a **heuristic (h).**"
   ]
  },
  {
   "cell_type": "markdown",
   "id": "61620ca5",
   "metadata": {},
   "source": [
    "`Heuristic:` It means that the our prediction with some calculation to choose the path. \n",
    "\n",
    "h(n) = estimated distance/cost from node n to goal.\n",
    "\n",
    "A heuristic is basically a **rule of thumb** that helps prioritize search.\n",
    "\n",
    " - `Admissible` → never **overestimates**.\n",
    "\n",
    " - `Consistent` → obeys triangle inequality (**h(n) ≤ cost(n, n′) + h(n′)**)."
   ]
  },
  {
   "cell_type": "code",
   "execution_count": null,
   "id": "1d966f5e",
   "metadata": {},
   "outputs": [],
   "source": [
    "def A_star(graph, start, goal):\n",
    "    frontier = [start, ]"
   ]
  }
 ],
 "metadata": {
  "language_info": {
   "name": "python"
  }
 },
 "nbformat": 4,
 "nbformat_minor": 5
}
